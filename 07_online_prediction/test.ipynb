{
 "cells": [
  {
   "cell_type": "code",
   "execution_count": 2,
   "metadata": {},
   "outputs": [],
   "source": [
    "from __future__ import absolute_import\n",
    "from __future__ import division\n",
    "from __future__ import print_function\n",
    "\n",
    "import argparse\n",
    "import json\n",
    "import os\n",
    "import sys\n",
    "\n",
    "from googleapiclient import discovery\n",
    "from oauth2client.client import GoogleCredentials\n",
    "\n",
    "try:\n",
    "    from utils import my_metadata\n",
    "    from utils import sql_queries\n",
    "\n",
    "except ImportError:\n",
    "    sys.path.append(os.path.join(os.getcwd(), '..', 'utils_src'))\n",
    "    from utils import my_metadata"
   ]
  },
  {
   "cell_type": "code",
   "execution_count": 3,
   "metadata": {},
   "outputs": [],
   "source": [
    "known_args = {'project' : 'lf-ml-demo', 'model_name' : 'taxi_fare_end2end', 'version_name' : 'v001', 'examples_file' : 'examples.json'}"
   ]
  },
  {
   "cell_type": "code",
   "execution_count": 4,
   "metadata": {},
   "outputs": [],
   "source": [
    "raw_examples = []"
   ]
  },
  {
   "cell_type": "code",
   "execution_count": 7,
   "metadata": {},
   "outputs": [],
   "source": [
    "with open(known_args['examples_file'], 'r') as f_in:\n",
    "        for example in f_in.readlines():\n",
    "            raw_examples.append(json.loads(example))"
   ]
  },
  {
   "cell_type": "code",
   "execution_count": 8,
   "metadata": {},
   "outputs": [
    {
     "data": {
      "text/plain": [
       "[{u'company': u'Chicago Elite Cab Corp. (Chicago Carriag',\n",
       "  u'dropoff_census_tract': u'',\n",
       "  u'dropoff_community_area': u'',\n",
       "  u'dropoff_latitude': 0,\n",
       "  u'dropoff_longitude': 0,\n",
       "  u'fare': 945.0,\n",
       "  u'payment_type': u'Cash',\n",
       "  u'pickup_census_tract': u'',\n",
       "  u'pickup_community_area': u'',\n",
       "  u'pickup_latitude': 0,\n",
       "  u'pickup_longitude': 0,\n",
       "  u'trip_miles': 0.0,\n",
       "  u'trip_seconds': 0,\n",
       "  u'trip_start_day': u'6',\n",
       "  u'trip_start_hour': u'7',\n",
       "  u'trip_start_month': u'10',\n",
       "  u'trip_start_timestamp': 1446191100},\n",
       " {u'company': u'Chicago Elite Cab Corp. (Chicago Carriag',\n",
       "  u'dropoff_census_tract': u'',\n",
       "  u'dropoff_community_area': u'',\n",
       "  u'dropoff_latitude': 0,\n",
       "  u'dropoff_longitude': 0,\n",
       "  u'fare': 10500.0,\n",
       "  u'payment_type': u'No Charge',\n",
       "  u'pickup_census_tract': u'',\n",
       "  u'pickup_community_area': u'',\n",
       "  u'pickup_latitude': 0,\n",
       "  u'pickup_longitude': 0,\n",
       "  u'trip_miles': 0.0,\n",
       "  u'trip_seconds': 0,\n",
       "  u'trip_start_day': u'2',\n",
       "  u'trip_start_hour': u'1',\n",
       "  u'trip_start_month': u'11',\n",
       "  u'trip_start_timestamp': 1383528600},\n",
       " {u'company': u'Chicago Elite Cab Corp. (Chicago Carriag',\n",
       "  u'dropoff_census_tract': u'',\n",
       "  u'dropoff_community_area': u'',\n",
       "  u'dropoff_latitude': 0,\n",
       "  u'dropoff_longitude': 0,\n",
       "  u'fare': 1245.0,\n",
       "  u'payment_type': u'Cash',\n",
       "  u'pickup_census_tract': u'',\n",
       "  u'pickup_community_area': u'',\n",
       "  u'pickup_latitude': 0,\n",
       "  u'pickup_longitude': 0,\n",
       "  u'trip_miles': 0.0,\n",
       "  u'trip_seconds': 0,\n",
       "  u'trip_start_day': u'3',\n",
       "  u'trip_start_hour': u'6',\n",
       "  u'trip_start_month': u'11',\n",
       "  u'trip_start_timestamp': 1448346600},\n",
       " {u'company': u'Chicago Elite Cab Corp.',\n",
       "  u'dropoff_census_tract': u'',\n",
       "  u'dropoff_community_area': u'',\n",
       "  u'dropoff_latitude': 0,\n",
       "  u'dropoff_longitude': 0,\n",
       "  u'fare': 825.0,\n",
       "  u'payment_type': u'No Charge',\n",
       "  u'pickup_census_tract': u'',\n",
       "  u'pickup_community_area': u'',\n",
       "  u'pickup_latitude': 0,\n",
       "  u'pickup_longitude': 0,\n",
       "  u'trip_miles': 0.0,\n",
       "  u'trip_seconds': 0,\n",
       "  u'trip_start_day': u'5',\n",
       "  u'trip_start_hour': u'7',\n",
       "  u'trip_start_month': u'5',\n",
       "  u'trip_start_timestamp': 1367478900},\n",
       " {u'company': u'Chicago Elite Cab Corp. (Chicago Carriag',\n",
       "  u'dropoff_census_tract': u'',\n",
       "  u'dropoff_community_area': u'',\n",
       "  u'dropoff_latitude': 0,\n",
       "  u'dropoff_longitude': 0,\n",
       "  u'fare': 1105.0,\n",
       "  u'payment_type': u'Cash',\n",
       "  u'pickup_census_tract': u'',\n",
       "  u'pickup_community_area': u'',\n",
       "  u'pickup_latitude': 0,\n",
       "  u'pickup_longitude': 0,\n",
       "  u'trip_miles': 0.0,\n",
       "  u'trip_seconds': 0,\n",
       "  u'trip_start_day': u'4',\n",
       "  u'trip_start_hour': u'4',\n",
       "  u'trip_start_month': u'5',\n",
       "  u'trip_start_timestamp': 1432095300}]"
      ]
     },
     "execution_count": 8,
     "metadata": {},
     "output_type": "execute_result"
    }
   ],
   "source": [
    "raw_examples"
   ]
  },
  {
   "cell_type": "code",
   "execution_count": 9,
   "metadata": {},
   "outputs": [],
   "source": [
    "request_data = {}"
   ]
  },
  {
   "cell_type": "code",
   "execution_count": 28,
   "metadata": {},
   "outputs": [],
   "source": [
    "request_data['instances'] = [\n",
    "        #  my_metadata.clean_raw_data_dict_prediction(raw_example, raw_feature_spec) for raw_example in raw_examples]\n",
    "        raw_example for raw_example in raw_examples[:1]]"
   ]
  },
  {
   "cell_type": "code",
   "execution_count": 30,
   "metadata": {},
   "outputs": [],
   "source": [
    "request_data = {'instances': [{u'company': [u'Chicago Elite Cab Corp. (Chicago Carriag'],\n",
    "   u'dropoff_census_tract': [u''],\n",
    "   u'dropoff_community_area': [u''],\n",
    "   u'dropoff_latitude': [0],\n",
    "   u'dropoff_longitude': [0],\n",
    "   u'fare': [945.0],\n",
    "   u'payment_type': [u'Cash'],\n",
    "   u'pickup_census_tract': [u''],\n",
    "   u'pickup_community_area': [u''],\n",
    "   u'pickup_latitude': [0],\n",
    "   u'pickup_longitude': [0],\n",
    "   u'trip_miles': [0.0],\n",
    "   u'trip_seconds': [0],\n",
    "   u'trip_start_day': [u'6'],\n",
    "   u'trip_start_hour': [u'7'],\n",
    "   u'trip_start_month': [u'10'],\n",
    "   u'trip_start_timestamp': [1446191100]}]}"
   ]
  },
  {
   "cell_type": "code",
   "execution_count": 18,
   "metadata": {},
   "outputs": [],
   "source": [
    "credentials = GoogleCredentials.get_application_default()\n",
    "api = discovery.build('ml', 'v1', credentials=credentials,\n",
    "                          discoveryServiceUrl='https://storage.googleapis.com/cloud-ml/discovery/ml_v1_discovery.json')"
   ]
  },
  {
   "cell_type": "code",
   "execution_count": 19,
   "metadata": {},
   "outputs": [],
   "source": [
    "parent = 'projects/%s/models/%s/versions/%s' % (known_args['project'],\n",
    "                                                        known_args['model_name'],\n",
    "                                                        known_args['version_name'])"
   ]
  },
  {
   "cell_type": "code",
   "execution_count": 31,
   "metadata": {},
   "outputs": [],
   "source": [
    "response = api.projects().predict(body=request_data, name=parent).execute()"
   ]
  },
  {
   "cell_type": "code",
   "execution_count": 32,
   "metadata": {},
   "outputs": [
    {
     "data": {
      "text/plain": [
       "{u'error': u'Prediction failed: Error during model execution: AbortionError(code=StatusCode.INVALID_ARGUMENT, details=\"You must feed a value for placeholder tensor \\'input_example_tensor\\' with dtype string and shape [?]\\n\\t [[{{node input_example_tensor}}]]\")'}"
      ]
     },
     "execution_count": 32,
     "metadata": {},
     "output_type": "execute_result"
    }
   ],
   "source": [
    "response"
   ]
  },
  {
   "cell_type": "code",
   "execution_count": 22,
   "metadata": {},
   "outputs": [
    {
     "name": "stdout",
     "output_type": "stream",
     "text": [
      "\n",
      "MetaGraphDef with tag-set: 'serve' contains the following SignatureDefs:\n",
      "\n",
      "signature_def['predict']:\n",
      "  The given SavedModel SignatureDef contains the following input(s):\n",
      "    inputs['company'] tensor_info:\n",
      "        dtype: DT_STRING\n",
      "        shape: (-1, 1)\n",
      "        name: company:0\n",
      "    inputs['dropoff_census_tract'] tensor_info:\n",
      "        dtype: DT_STRING\n",
      "        shape: (-1, 1)\n",
      "        name: dropoff_census_tract:0\n",
      "    inputs['dropoff_community_area'] tensor_info:\n",
      "        dtype: DT_STRING\n",
      "        shape: (-1, 1)\n",
      "        name: dropoff_community_area:0\n",
      "    inputs['dropoff_latitude'] tensor_info:\n",
      "        dtype: DT_FLOAT\n",
      "        shape: (-1, 1)\n",
      "        name: dropoff_latitude:0\n",
      "    inputs['dropoff_longitude'] tensor_info:\n",
      "        dtype: DT_FLOAT\n",
      "        shape: (-1, 1)\n",
      "        name: dropoff_longitude:0\n",
      "    inputs['fare'] tensor_info:\n",
      "        dtype: DT_FLOAT\n",
      "        shape: (-1, 1)\n",
      "        name: fare:0\n",
      "    inputs['payment_type'] tensor_info:\n",
      "        dtype: DT_STRING\n",
      "        shape: (-1, 1)\n",
      "        name: payment_type:0\n",
      "    inputs['pickup_census_tract'] tensor_info:\n",
      "        dtype: DT_STRING\n",
      "        shape: (-1, 1)\n",
      "        name: pickup_census_tract:0\n",
      "    inputs['pickup_community_area'] tensor_info:\n",
      "        dtype: DT_STRING\n",
      "        shape: (-1, 1)\n",
      "        name: pickup_community_area:0\n",
      "    inputs['pickup_latitude'] tensor_info:\n",
      "        dtype: DT_FLOAT\n",
      "        shape: (-1, 1)\n",
      "        name: pickup_latitude:0\n",
      "    inputs['pickup_longitude'] tensor_info:\n",
      "        dtype: DT_FLOAT\n",
      "        shape: (-1, 1)\n",
      "        name: pickup_longitude:0\n",
      "    inputs['trip_miles'] tensor_info:\n",
      "        dtype: DT_FLOAT\n",
      "        shape: (-1, 1)\n",
      "        name: trip_miles:0\n",
      "    inputs['trip_seconds'] tensor_info:\n",
      "        dtype: DT_INT64\n",
      "        shape: (-1, 1)\n",
      "        name: trip_seconds:0\n",
      "    inputs['trip_start_day'] tensor_info:\n",
      "        dtype: DT_STRING\n",
      "        shape: (-1, 1)\n",
      "        name: trip_start_day:0\n",
      "    inputs['trip_start_hour'] tensor_info:\n",
      "        dtype: DT_STRING\n",
      "        shape: (-1, 1)\n",
      "        name: trip_start_hour:0\n",
      "    inputs['trip_start_month'] tensor_info:\n",
      "        dtype: DT_STRING\n",
      "        shape: (-1, 1)\n",
      "        name: trip_start_month:0\n",
      "    inputs['trip_start_timestamp'] tensor_info:\n",
      "        dtype: DT_INT64\n",
      "        shape: (-1, 1)\n",
      "        name: trip_start_timestamp:0\n",
      "  The given SavedModel SignatureDef contains the following output(s):\n",
      "    outputs['class_ids'] tensor_info:\n",
      "        dtype: DT_INT64\n",
      "        shape: (-1, 1)\n",
      "        name: head/predictions/ExpandDims:0\n",
      "    outputs['classes'] tensor_info:\n",
      "        dtype: DT_STRING\n",
      "        shape: (-1, 1)\n",
      "        name: head/predictions/str_classes:0\n",
      "    outputs['logistic'] tensor_info:\n",
      "        dtype: DT_FLOAT\n",
      "        shape: (-1, 1)\n",
      "        name: head/predictions/logistic:0\n",
      "    outputs['logits'] tensor_info:\n",
      "        dtype: DT_FLOAT\n",
      "        shape: (-1, 1)\n",
      "        name: add:0\n",
      "    outputs['probabilities'] tensor_info:\n",
      "        dtype: DT_FLOAT\n",
      "        shape: (-1, 2)\n",
      "        name: head/predictions/probabilities:0\n",
      "  Method name is: tensorflow/serving/predict\n"
     ]
    }
   ],
   "source": [
    "!saved_model_cli show --dir gs://lf-ml-demo-us-c1/taxi-fare/20190402/cmle-output-20190408-164614/1/serving-model-dir/export/model/1554735152/ --all"
   ]
  },
  {
   "cell_type": "markdown",
   "metadata": {},
   "source": [
    "inputs['company'] tensor_info:\n",
    "        dtype: DT_STRING\n",
    "        shape: (-1, 1)\n",
    "        name: company:0\n",
    "    inputs['dropoff_census_tract'] tensor_info:\n",
    "        dtype: DT_STRING\n",
    "        shape: (-1, 1)\n",
    "        name: dropoff_census_tract:0\n",
    "    inputs['dropoff_community_area'] tensor_info:\n",
    "        dtype: DT_STRING\n",
    "        shape: (-1, 1)\n",
    "        name: dropoff_community_area:0\n",
    "    inputs['dropoff_latitude'] tensor_info:\n",
    "        dtype: DT_FLOAT\n",
    "        shape: (-1, 1)\n",
    "        name: dropoff_latitude:0\n",
    "    inputs['dropoff_longitude'] tensor_info:\n",
    "        dtype: DT_FLOAT\n",
    "        shape: (-1, 1)\n",
    "        name: dropoff_longitude:0\n",
    "    inputs['fare'] tensor_info:\n",
    "        dtype: DT_FLOAT\n",
    "        shape: (-1, 1)\n",
    "        name: fare:0\n",
    "    inputs['payment_type'] tensor_info:\n",
    "        dtype: DT_STRING\n",
    "        shape: (-1, 1)\n",
    "        name: payment_type:0\n",
    "    inputs['pickup_census_tract'] tensor_info:\n",
    "        dtype: DT_STRING\n",
    "        shape: (-1, 1)\n",
    "        name: pickup_census_tract:0\n",
    "    inputs['pickup_community_area'] tensor_info:\n",
    "        dtype: DT_STRING\n",
    "        shape: (-1, 1)\n",
    "        name: pickup_community_area:0\n",
    "    inputs['pickup_latitude'] tensor_info:\n",
    "        dtype: DT_FLOAT\n",
    "        shape: (-1, 1)\n",
    "        name: pickup_latitude:0\n",
    "    inputs['pickup_longitude'] tensor_info:\n",
    "        dtype: DT_FLOAT\n",
    "        shape: (-1, 1)\n",
    "        name: pickup_longitude:0\n",
    "    inputs['trip_miles'] tensor_info:\n",
    "        dtype: DT_FLOAT\n",
    "        shape: (-1, 1)\n",
    "        name: trip_miles:0\n",
    "    inputs['trip_seconds'] tensor_info:\n",
    "        dtype: DT_INT64\n",
    "        shape: (-1, 1)\n",
    "        name: trip_seconds:0\n",
    "    inputs['trip_start_day'] tensor_info:\n",
    "        dtype: DT_STRING\n",
    "        shape: (-1, 1)\n",
    "        name: trip_start_day:0\n",
    "    inputs['trip_start_hour'] tensor_info:\n",
    "        dtype: DT_STRING\n",
    "        shape: (-1, 1)\n",
    "        name: trip_start_hour:0\n",
    "    inputs['trip_start_month'] tensor_info:\n",
    "        dtype: DT_STRING\n",
    "        shape: (-1, 1)\n",
    "        name: trip_start_month:0\n",
    "    inputs['trip_start_timestamp'] tensor_info:\n",
    "        dtype: DT_INT64\n",
    "        shape: (-1, 1)\n",
    "        name: trip_start_timestamp:0"
   ]
  },
  {
   "cell_type": "code",
   "execution_count": 25,
   "metadata": {},
   "outputs": [
    {
     "data": {
      "text/plain": [
       "[{u'company': u'Chicago Elite Cab Corp. (Chicago Carriag',\n",
       "  u'dropoff_census_tract': u'',\n",
       "  u'dropoff_community_area': u'',\n",
       "  u'dropoff_latitude': 0,\n",
       "  u'dropoff_longitude': 0,\n",
       "  u'fare': 945.0,\n",
       "  u'payment_type': u'Cash',\n",
       "  u'pickup_census_tract': u'',\n",
       "  u'pickup_community_area': u'',\n",
       "  u'pickup_latitude': 0,\n",
       "  u'pickup_longitude': 0,\n",
       "  u'trip_miles': 0.0,\n",
       "  u'trip_seconds': 0,\n",
       "  u'trip_start_day': u'6',\n",
       "  u'trip_start_hour': u'7',\n",
       "  u'trip_start_month': u'10',\n",
       "  u'trip_start_timestamp': 1446191100}]"
      ]
     },
     "execution_count": 25,
     "metadata": {},
     "output_type": "execute_result"
    }
   ],
   "source": [
    "request_data['instances']"
   ]
  },
  {
   "cell_type": "code",
   "execution_count": null,
   "metadata": {},
   "outputs": [],
   "source": []
  }
 ],
 "metadata": {
  "kernelspec": {
   "display_name": "Python 2",
   "language": "python",
   "name": "python2"
  },
  "language_info": {
   "codemirror_mode": {
    "name": "ipython",
    "version": 2
   },
   "file_extension": ".py",
   "mimetype": "text/x-python",
   "name": "python",
   "nbconvert_exporter": "python",
   "pygments_lexer": "ipython2",
   "version": "2.7.16"
  }
 },
 "nbformat": 4,
 "nbformat_minor": 2
}
